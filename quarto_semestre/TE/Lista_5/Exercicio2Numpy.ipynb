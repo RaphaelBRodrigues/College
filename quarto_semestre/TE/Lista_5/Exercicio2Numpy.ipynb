{
  "nbformat": 4,
  "nbformat_minor": 0,
  "metadata": {
    "colab": {
      "name": "Exercicio2Numpy.ipynb",
      "provenance": [],
      "collapsed_sections": []
    },
    "kernelspec": {
      "name": "python3",
      "display_name": "Python 3"
    },
    "language_info": {
      "name": "python"
    }
  },
  "cells": [
    {
      "cell_type": "markdown",
      "metadata": {
        "id": "RN6tB6frnG_D"
      },
      "source": [
        "\n",
        "\n",
        "\n",
        "\n",
        "1. Crie um ndarray a partir de uma dada lista e seleccione os valores localizados em índices pares. Os índices pares de uma matriz são 0, 2, 4, 6, e assim por diante.\n",
        "\n",
        "\n",
        "1.   Criar um ndarray a partir da lista de valores fornecida. Atribuí-la à variável **x**.\n",
        "2.   Atribuir a uma variável **par** os valores nos índices pares de x.\n",
        "\n",
        "\n",
        "\n",
        "\n",
        "\n"
      ]
    },
    {
      "cell_type": "code",
      "metadata": {
        "id": "t9oJE_wHnBao"
      },
      "source": [
        "import numpy as np\n",
        "values = [7, 4, 5, 8, 9, 0, 1, 3, 2, 6]\n",
        "\n"
      ],
      "execution_count": null,
      "outputs": []
    },
    {
      "cell_type": "markdown",
      "metadata": {
        "id": "-XqFBACeqTZm"
      },
      "source": [
        "2. Crie um ndarray a partir de uma determinada lista e seleccione os valores localizados em índices ímpares. Os índices ímpares de uma matriz são 1, 3, 5, 7, e assim por diante.\n",
        "\n",
        "\n",
        "1.   Criar um ndarray a partir da lista de valores fornecida. Atribuí-la à variável **x**.\n",
        "2.   Atribuir a uma variável **ímpar** os valores nos índices ímpares de x\n",
        "\n"
      ]
    },
    {
      "cell_type": "code",
      "metadata": {
        "id": "J9hqYlk7qPds"
      },
      "source": [
        "import numpy as np\n",
        "values = [7, 4, 5, 8, 9, 0, 1, 3, 2, 6]\n"
      ],
      "execution_count": null,
      "outputs": []
    },
    {
      "cell_type": "markdown",
      "metadata": {
        "id": "aq9O_YrgrE57"
      },
      "source": [
        "3. Crie um ndarray a partir de uma dada lista e inverter a ordem dos seus valores.\n",
        "\n",
        "Por exemplo, se o ndarray é [5 3 4] então o inverso é [4 3 5].\n",
        "\n",
        "\n",
        "1.   Criar um ndarray a partir da lista de valores fornecida. Atribuí-la à variável **x**.\n",
        "2.   Atribuir a uma variável **inversa** um ndarray contendo os valores de x em ordem inversa.\n",
        "\n"
      ]
    },
    {
      "cell_type": "code",
      "metadata": {
        "id": "DfDe1_QPrOqp"
      },
      "source": [
        "import numpy as np\n",
        "values = [7, 4, 5, 8, 9, 0, 1, 3, 2, 6]"
      ],
      "execution_count": null,
      "outputs": []
    },
    {
      "cell_type": "markdown",
      "metadata": {
        "id": "CWQaQciOsRTF"
      },
      "source": [
        "4. Escreve uma função first_half() que, dada uma matriz unidimensional, devolve um ndarray que contém a primeira metade do ndarray fornecido. Se o ndarray de entrada tiver um número ímpar de elementos, deve excluir o elemento médio.\n",
        "\n",
        "Exemplos: \n",
        "\n",
        "x = np.array([1, 2, 3, 4])\n",
        "print(first_half(x))\n",
        "\n",
        "saida:\n",
        "[1 2]\n",
        "\n",
        "x = np.array([1, 2, 3, 4, 5])\n",
        "print(first_half(x))\n",
        "\n",
        "saida: [1 2]\n",
        "Obs: excluímos o elemento do meio\n",
        "\n",
        "\n",
        "1.   Definir uma função first_half() com um único argumento: x: Uma ndarray uni-dimensional\n",
        "2.   Implementar a função first_half() para que devolva uma ndarray contendo a primeira metade da ndarray fornecida. Se a ndarray de entrada tiver um número ímpar de elementos, deve excluir o elemento médio.\n",
        "\n"
      ]
    },
    {
      "cell_type": "code",
      "metadata": {
        "id": "US2OOEYGtEGK"
      },
      "source": [
        "import numpy as np\n",
        "\n",
        "# Escreva aqui a sua função\n",
        "\n",
        "\n",
        "# Retire os comentários para testar\n",
        "#x = np.array([1, 2, 3, 4])\n",
        "#print(first_half(x))\n",
        "\n",
        "#x = np.array([1, 2, 3, 4, 5])\n",
        "#print(first_half(x))"
      ],
      "execution_count": null,
      "outputs": []
    },
    {
      "cell_type": "markdown",
      "metadata": {
        "id": "xvivtsADudBU"
      },
      "source": [
        "5. Escreva uma função second_half() que, dada uma matriz uni-dimensional, devolve uma ndarray contendo a segunda metade da ndarray fornecida. Se a ndarray de entrada tiver um número ímpar de elementos, deve incluir o elemento médio.\n",
        "\n",
        "Exemplos: <br>\n",
        "x = np.array([1, 2, 3, 4]) <br>\n",
        "print(second_half(x))\n",
        "\n",
        "saida: [3 4]\n",
        "\n",
        "x = np.array([1, 2, 3, 4, 5])<br>\n",
        "print(second_half(x))\n",
        "\n",
        "saida:\n",
        "[3 4 5]\n",
        "\n",
        "Obs: Como vocês podem ver, a segunda metade possui o elemento médio\n",
        "\n",
        "1.  Definir uma função second_half() com um único argumento: <br>\n",
        "x: Um ndarray\n",
        "2.  Implementar a função second_half() para que devolva uma ndarray contendo a segunda metade da ndarray fornecida. Se a ndarray de entrada tiver um número ímpar de elementos, deve incluir o elemento médio\n",
        "\n"
      ]
    },
    {
      "cell_type": "code",
      "metadata": {
        "id": "DTjlYajktWqi"
      },
      "source": [
        "import numpy as np\n",
        "\n",
        "# Escreva a sua função aqui\n",
        "\n",
        "\n",
        "# Retire os comentários para testar\n",
        "#x = np.array([1, 2, 3, 4])\n",
        "#print(second_half(x))\n",
        "\n",
        "#x = np.array([1, 2, 3, 4, 5])\n",
        "#print(second_half(x))\n"
      ],
      "execution_count": null,
      "outputs": []
    },
    {
      "cell_type": "markdown",
      "metadata": {
        "id": "l929szCq1gpO"
      },
      "source": [
        "6. Podemos usar a função np.concatenate() para concatenar dois ndarrays. É necessário como entrada uma sequência de ndarrays (por exemplo, uma lista ou um tuple) e concatena-os.\n",
        "\n",
        "Exemplos: <br>\n",
        "x = np.array([1, 2, 3])<br>\n",
        "y = np.array([4, 5, 6])<br>\n",
        "z = np.array([7, 8, 9])<br>\n",
        "concat = np.concatenate([x, y, z])<br>\n",
        "print(concat)\n",
        "\n",
        "Saída: <br>\n",
        "[1 2 3 4 5 6 7 8 9]\n",
        "\n",
        "Neste problema queremos concatenar dois ndarrays\n",
        "\n",
        "1. Criar um ndarray a partir da lista fornecida values1. Atribuí-la à variável x.\n",
        "2. Criar um ndarray a partir da lista fornecida values2. Atribui-la à variável y.\n",
        "3. Concatenar x e y e atribuir o resultado à concat."
      ]
    },
    {
      "cell_type": "code",
      "metadata": {
        "id": "8yw66ojU2nSE"
      },
      "source": [
        "import numpy as np\n",
        "values1 = [5, 7, 4, 6, 3, 9]\n",
        "values2 = [2, 1, 8, 0]\n",
        "\n"
      ],
      "execution_count": null,
      "outputs": []
    },
    {
      "cell_type": "markdown",
      "metadata": {
        "id": "erCIKt6Z4jeq"
      },
      "source": [
        "7. Escreva uma função mix que, dadas duas matrizes unidimensionais x e y, produz um novo ndarray onde:\n",
        "\n",
        "A primeira metade dos seus valores corresponde à primeira metade de x (excluindo o elemento médio se x tiver um comprimento ímpar).\n",
        "\n",
        "A segunda metade dos seus valores corresponde à segunda metade de y (incluindo o elemento médio, se y tiver um comprimento ímpar).\n",
        "\n",
        "Exemplos:<br>\n",
        "x = np.array([1, 2, 3, 4, 5])<br>\n",
        "y = np.array([6, 7, 8, 9, 10])<br>\n",
        "z = mix(x, y)<br>\n",
        "print(z)\n",
        "\n",
        "Saída:<br>\n",
        "[ 1  2  8  9 10] \n",
        "\n",
        "![image.png](data:image/png;base64,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)\n",
        "\n",
        "Sugiro o uso da função np.concatenate()\n",
        "\n",
        "Caso esteja curioso, este tipo de mistura é por vezes utilizado no contexto de algoritmos genéticos, que podem ser utilizados para treinar algoritmos de aprendizagem de máquinas.\n",
        "\n",
        "1. Define uma função mix() com dois argumentos:\n",
        "  - x um array unidimensional\n",
        "  - y um array unidimensional\n",
        "\n",
        "Implementar a função mix() de modo a devolver um ndarray tal que:\n",
        "    - A primeira metade dos seus valores corresponda à primeira metade de x (excluindo o elemento médio se x tiver um comprimento ímpar).\n",
        "    - A segunda metade dos seus valores corresponde à segunda metade de y (incluindo o elemento médio, se y tiver um comprimento ímpar).\n",
        "    \n",
        "Pode testar a sua função, descomentando o código fornecido. Também analisaremos a sua função noutros casos de teste para nos certificarmos de que está correcta.\n"
      ]
    },
    {
      "cell_type": "code",
      "metadata": {
        "id": "zSSH3zbP2rbV"
      },
      "source": [
        "import numpy as np\n",
        "\n",
        "# Escreva a sua função aqui\n",
        "\n",
        "# Retire os comentários para testar\n",
        "#x = np.array([1, 2, 3, 4, 5])\n",
        "#y = np.array([6, 7, 8, 9, 10])\n",
        "#z = mix(x, y)\n",
        "#print(z)"
      ],
      "execution_count": null,
      "outputs": []
    },
    {
      "cell_type": "markdown",
      "metadata": {
        "id": "qFJcXeNBuHix"
      },
      "source": [
        "8. Escreva um programa NumPy para encontrar os índices dos valores máximo e mínimo ao longo do eixo fornecido de uma matriz."
      ]
    },
    {
      "cell_type": "code",
      "metadata": {
        "id": "9JGdl0Myuajh"
      },
      "source": [
        ""
      ],
      "execution_count": null,
      "outputs": []
    }
  ]
}